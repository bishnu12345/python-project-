{
 "cells": [
  {
   "cell_type": "code",
   "execution_count": null,
   "metadata": {},
   "outputs": [],
   "source": [
    "# importing all the requirements  \n",
    "from tkinter import * \n",
    "from tkinter.ttk import *\n",
    "  \n",
    "from time import strftime \n",
    "  \n",
    "# creating  window  in tkinter \n",
    "root = Tk() \n",
    "root.title('Clock') \n",
    "  \n",
    "def time(): \n",
    "    string = strftime('%H:%M:%S %p') \n",
    "    lbl.config(text = string) \n",
    "    lbl.after(1000, time) \n",
    "  \n",
    "# Styling the label widget so that clock \n",
    "# will look more attractive \n",
    "lbl = Label(root, font = ('calibri', 50, 'bold'), \n",
    "            background = 'red', \n",
    "            foreground = 'black') \n",
    "  \n",
    "# Placing clock at the centre \n",
    "# of the tkinter window \n",
    "lbl.pack(anchor = 'center') \n",
    "time() \n",
    "  \n",
    "mainloop() \n",
    "#this project is done by bishhu chaulagain"
   ]
  },
  {
   "cell_type": "code",
   "execution_count": null,
   "metadata": {},
   "outputs": [],
   "source": []
  }
 ],
 "metadata": {
  "kernelspec": {
   "display_name": "Python 3",
   "language": "python",
   "name": "python3"
  },
  "language_info": {
   "codemirror_mode": {
    "name": "ipython",
    "version": 3
   },
   "file_extension": ".py",
   "mimetype": "text/x-python",
   "name": "python",
   "nbconvert_exporter": "python",
   "pygments_lexer": "ipython3",
   "version": "3.7.4"
  }
 },
 "nbformat": 4,
 "nbformat_minor": 2
}
